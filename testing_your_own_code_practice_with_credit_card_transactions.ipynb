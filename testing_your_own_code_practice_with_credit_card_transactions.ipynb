{
  "cells": [
    {
      "cell_type": "markdown",
      "metadata": {
        "id": "_J93T_fKBRBB"
      },
      "source": [
        "Organize your table into teams. Normally for something like this you organize into [red and blue teams](https://en.wikipedia.org/wiki/Red_team) but I guess we should probably do black and gold teams, huh? "
      ]
    },
    {
      "cell_type": "markdown",
      "metadata": {
        "id": "h4QV02pmBp8z"
      },
      "source": [
        "### Business logic \n",
        "\n",
        "- You work for a credit card company\n",
        "- You want to avoid fraudulent transactions.\n",
        "- One way to avoid fraudulent transactions is to ensure that a customers name, number and address match the records your database\n",
        "- So when the person goes to make a transaction online, if they give an address or name that does not match the number, you can reject the transaction.\n",
        "- Write a function `is_ok` which returns `True` if the name, number and address from a transaction match the record in your database. And false otherwise."
      ]
    },
    {
      "cell_type": "markdown",
      "metadata": {
        "id": "iQvqG7SgAtgo"
      },
      "source": [
        "Start off by finishing the function. Your code should fail the test until you fix it."
      ]
    },
    {
      "cell_type": "code",
      "execution_count": 64,
      "metadata": {
        "id": "8zF-vTn8_pWv"
      },
      "outputs": [
        {
          "data": {
            "text/plain": [
              "True"
            ]
          },
          "execution_count": 64,
          "metadata": {},
          "output_type": "execute_result"
        }
      ],
      "source": [
        "def match(_database_record: dict, _transaction: dict) -> bool:\n",
        "    \n",
        "\n",
        "    database_record = {\"name\": \"Grisha Brenden\", \"number\": \"12395\", \"address\": \"995 Regent Dr\"}\n",
        "    transaction = {\"name\": \"Grisha Brenden\", \"number\": \"12395\", \"address\": \"995 Regent Dr\"}\n",
        "\n",
        "    assert match(_database_record=database_record, _transaction=transaction)\n",
        "\n",
        "database_record = {\"name\": \"Grisha Brenden\", \"number\": \"29292\", \"address\": \"995 Regent Dr\"}\n",
        "transaction = {\"name\": \"Grisha Brenden\", \"number\": \"29292\", \"address\": \"995 Regent Dr\"}\n",
        "\n",
        "def is_ok(_database_record: dict, _transaction: dict) -> bool:\n",
        "    \n",
        "    if _database_record[\"name\"] != _transaction[\"name\"]:\n",
        "        return False\n",
        "    elif _database_record[\"number\"] != _transaction[\"number\"]:\n",
        "        return False\n",
        "    elif _database_record[\"address\"] != _transaction[\"address\"]:\n",
        "        return False\n",
        "    elif _database_record[\"name\"] == _transaction[\"name\"] and _database_record[\"number\"] == _transaction[\"number\"] and _database_record[\"address\"] == _transaction[\"address\"]:\n",
        "        return True\n",
        "    \n",
        "    ## raise errors\n",
        "    if _database_record['name'] == _database_record['number'] == _database_record['address']:\n",
        "        raise NotImplementedError(\"Inputs should not be the same\")\n",
        "    if _transaction['name'] == _transaction['number'] == _transaction['address']:\n",
        "        raise NotImplementedError(\"Inputs should not be the same\")\n",
        "    if _database_record['name'] == (\" \") or _database_record['number'] == (\" \") or _database_record['address'] == (\" \"):\n",
        "        raise NotImplementedError(\"Inputs should not be empty\")\n",
        "    if _transaction['name'] == (\" \") or _transaction['number'] == (\" \") or _transaction['address'] == (\" \"):\n",
        "        raise NotImplementedError(\"Inputs should not be empty\")\n",
        "    if _database_record == None:\n",
        "        raise NotImplementedError(\"Inputs should not be empty\")\n",
        "    if _transaction == None:\n",
        "        raise NotImplementedError(\"Inputs should not be empty\")\n",
        "    if _database_record['name'] == int or _database_record['address'] == int:\n",
        "        raise NotImplementedError(\"Name and Address should not be numbers\")\n",
        "    if _transaction['name'] == int or _transaction['address'] == int:\n",
        "        raise NotImplementedError(\"Name and Address should not be numbers\")\n",
        "    if _database_record['number'] == str:\n",
        "        raise NotImplementedError(\"Number should be numbers\")\n",
        "    if _transaction['number'] == str:\n",
        "        raise NotImplementedError(\"Number should be numbers\")\n",
        "    if _database_record['name'] == float or _database_record['address'] == float:\n",
        "        raise NotImplementedError(\"Name and Address should not be numbers\")\n",
        "\n",
        "\n",
        "is_ok(database_record, transaction)"
      ]
    },
    {
      "cell_type": "markdown",
      "metadata": {
        "id": "7MfbUYymAsho"
      },
      "source": [
        "Now write tests for your own function to check for edge cases. When will the business logic fail?"
      ]
    },
    {
      "cell_type": "code",
      "execution_count": null,
      "metadata": {
        "id": "_zSCj1hwAsJM"
      },
      "outputs": [],
      "source": [
        "## Your tests here"
      ]
    },
    {
      "cell_type": "markdown",
      "metadata": {
        "id": "4w8mgp5l-8bQ"
      },
      "source": [
        "In a few minutes you will post your code on GitHub and invite the other team to try and find holes in it with their tests. Do you want to do anything to \"harden\" your code? Can you think of things the other team will miss? The team that finds the most issues with the other teams code (across the whole class) will get extra credit. Each issue is equal to one test."
      ]
    },
    {
      "cell_type": "markdown",
      "metadata": {
        "id": "TJfiV55ICPQ0"
      },
      "source": [
        "Ok now post your code on GitHub. Copy the other teams code into  your notebook. (You can also use GitHub features to do this programmatically, which is better but beyond the scope of the class).  Then run your tests on their code to see if you find issues that they did not think of."
      ]
    },
    {
      "cell_type": "markdown",
      "metadata": {
        "id": "yW2VFxOICdIx"
      },
      "source": [
        "Count up how many issues you find with the other team's code. An issue is a test that reveals a flaw in the business logic. Basically, if you find a reasonable hole in the other team's logic using a test, that counts as an issue."
      ]
    },
    {
      "cell_type": "code",
      "execution_count": null,
      "metadata": {
        "id": "ChzCTUm3DO8G"
      },
      "outputs": [],
      "source": []
    }
  ],
  "metadata": {
    "colab": {
      "provenance": []
    },
    "kernelspec": {
      "display_name": "Python 3",
      "language": "python",
      "name": "python3"
    },
    "language_info": {
      "codemirror_mode": {
        "name": "ipython",
        "version": 3
      },
      "file_extension": ".py",
      "mimetype": "text/x-python",
      "name": "python",
      "nbconvert_exporter": "python",
      "pygments_lexer": "ipython3",
      "version": "3.10.10"
    },
    "vscode": {
      "interpreter": {
        "hash": "7579bd442d70b73b46976241f63b101aea76d2c92a6f3b0408826b4efc1f4576"
      }
    }
  },
  "nbformat": 4,
  "nbformat_minor": 0
}
